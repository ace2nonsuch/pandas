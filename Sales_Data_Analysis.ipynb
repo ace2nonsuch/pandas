{
 "cells": [
  {
   "cell_type": "code",
   "execution_count": null,
   "metadata": {
    "id": "LSU_xw-Dd7tZ"
   },
   "outputs": [],
   "source": []
  },
  {
   "cell_type": "markdown",
   "metadata": {
    "id": "pi2sKQdjWci_"
   },
   "source": [
    "# 1.0 Extract, Transform and Load"
   ]
  },
  {
   "cell_type": "code",
   "execution_count": null,
   "metadata": {
    "colab": {
     "base_uri": "https://localhost:8080/"
    },
    "executionInfo": {
     "elapsed": 52914,
     "status": "ok",
     "timestamp": 1729865807895,
     "user": {
      "displayName": "AbdulBasit OLAJIRE",
      "userId": "13126082537182926041"
     },
     "user_tz": 420
    },
    "id": "5MUolpJaKOyw",
    "outputId": "b3e2f1fd-d6c2-4ffc-8d56-9e917f079150"
   },
   "outputs": [
    {
     "name": "stdout",
     "output_type": "stream",
     "text": [
      "Mounted at /content/drive\n"
     ]
    }
   ],
   "source": [
    "from google.colab import drive\n",
    "drive.mount('/content/drive')"
   ]
  },
  {
   "cell_type": "code",
   "execution_count": 3,
   "metadata": {
    "colab": {
     "base_uri": "https://localhost:8080/"
    },
    "executionInfo": {
     "elapsed": 6015,
     "status": "ok",
     "timestamp": 1731921525440,
     "user": {
      "displayName": "Emmanuel Odusanya",
      "userId": "03074087659073814634"
     },
     "user_tz": -60
    },
    "id": "HVSpG_t2_O2I",
    "outputId": "ba797add-4205-4de7-f243-c52a6506732b"
   },
   "outputs": [
    {
     "name": "stdout",
     "output_type": "stream",
     "text": [
      "imported successes \n"
     ]
    }
   ],
   "source": [
    "# import neccesary libraries\n",
    "import pandas as pd\n",
    "import numpy as np\n",
    "import matplotlib.pyplot as plt\n",
    "import seaborn as sns\n",
    "\n",
    "print(\"imported successes \")"
   ]
  },
  {
   "cell_type": "code",
   "execution_count": 14,
   "metadata": {
    "colab": {
     "base_uri": "https://localhost:8080/",
     "height": 512
    },
    "executionInfo": {
     "elapsed": 555,
     "status": "error",
     "timestamp": 1729865859867,
     "user": {
      "displayName": "AbdulBasit OLAJIRE",
      "userId": "13126082537182926041"
     },
     "user_tz": 420
    },
    "id": "FL9rBNyX_lGv",
    "outputId": "1b2b935c-57c2-4f13-a6f2-ba3ef9b46a56"
   },
   "outputs": [
    {
     "name": "stdout",
     "output_type": "stream",
     "text": [
      "loaded data successfully\n"
     ]
    }
   ],
   "source": [
    "#Load in the dataset\n",
    "\n",
    "# Update the path below to the actual location of your file in Google Drive\n",
    "sales = pd.read_csv(\"Sales_Data.csv\", encoding='latin1')\n",
    "print(\"loaded data successfully\")"
   ]
  },
  {
   "cell_type": "code",
   "execution_count": null,
   "metadata": {
    "id": "Zjen2EaD11vf"
   },
   "outputs": [],
   "source": [
    "\n",
    "## What makes a dirty data?\n",
    "# Missing values\n",
    "\n",
    "# Duplicates\n",
    "# inconsistent data columns\n",
    "# wrong datatype ....>to change datatypes we use \".astype()\" ----> to check datatypes we use \"dtypes\"\n",
    "# incomplete data\n",
    "\n",
    "## Why do we need to clean data? We clean data to ensure\n",
    "# --->Data integrity, accuracy and consistency---->\n",
    "\n",
    "\n",
    "## Data anaysis pipeline\n",
    "#1. ETL (Extract, Transform and Load)\n",
    "#2. creating data model for visualization\n",
    "#3. building dashboard\n",
    "#4. Reporting and presentation\n",
    "\n",
    "## Data Science pipeline\n",
    "#1. Preliminary analysis\n",
    "#2. EDA Exploratory data analysis\n",
    "#3. Data cleaning\n",
    "#4. Analysis(Data Wrangling)\n",
    "#5. Data preprocessing and data mining\n",
    "#6. Building your model(prediction, forcasting, classification, clustering)\n",
    "#7. Reporting and visualization\n",
    "#8. Deployment\n",
    "#9. Maintenance and monitoring\n",
    "#10.Support and troubleshooting\n",
    "#----> Please note that from step2 to step5 is an iterative process that is dependent on step 6. Step 6 itself could also be iterative"
   ]
  },
  {
   "cell_type": "markdown",
   "metadata": {},
   "source": [
    "### Data Inspection and Exploration"
   ]
  },
  {
   "cell_type": "code",
   "execution_count": 26,
   "metadata": {
    "id": "5LpYPoG3_0IA"
   },
   "outputs": [
    {
     "data": {
      "text/html": [
       "<div>\n",
       "<style scoped>\n",
       "    .dataframe tbody tr th:only-of-type {\n",
       "        vertical-align: middle;\n",
       "    }\n",
       "\n",
       "    .dataframe tbody tr th {\n",
       "        vertical-align: top;\n",
       "    }\n",
       "\n",
       "    .dataframe thead th {\n",
       "        text-align: right;\n",
       "    }\n",
       "</style>\n",
       "<table border=\"1\" class=\"dataframe\">\n",
       "  <thead>\n",
       "    <tr style=\"text-align: right;\">\n",
       "      <th></th>\n",
       "      <th>Sales Person</th>\n",
       "      <th>Geography</th>\n",
       "      <th>Product</th>\n",
       "      <th>Date</th>\n",
       "      <th>Amount</th>\n",
       "      <th>Boxes</th>\n",
       "    </tr>\n",
       "  </thead>\n",
       "  <tbody>\n",
       "    <tr>\n",
       "      <th>0</th>\n",
       "      <td>Barr Faughny</td>\n",
       "      <td>New Zealand</td>\n",
       "      <td>Raspberry Choco</td>\n",
       "      <td>1/1/2021</td>\n",
       "      <td>$8,414</td>\n",
       "      <td>495</td>\n",
       "    </tr>\n",
       "    <tr>\n",
       "      <th>1</th>\n",
       "      <td>Dennison Crosswaite</td>\n",
       "      <td>Canada</td>\n",
       "      <td>White Choc</td>\n",
       "      <td>1/1/2021</td>\n",
       "      <td>$532</td>\n",
       "      <td>54</td>\n",
       "    </tr>\n",
       "    <tr>\n",
       "      <th>2</th>\n",
       "      <td>Karlen McCaffrey</td>\n",
       "      <td>USA</td>\n",
       "      <td>99% Dark &amp; Pure</td>\n",
       "      <td>1/1/2021</td>\n",
       "      <td>$5,376</td>\n",
       "      <td>269</td>\n",
       "    </tr>\n",
       "    <tr>\n",
       "      <th>3</th>\n",
       "      <td>Barr Faughny</td>\n",
       "      <td>New Zealand</td>\n",
       "      <td>Baker's Choco Chips</td>\n",
       "      <td>1/1/2021</td>\n",
       "      <td>$259</td>\n",
       "      <td>22</td>\n",
       "    </tr>\n",
       "    <tr>\n",
       "      <th>4</th>\n",
       "      <td>Beverie Moffet</td>\n",
       "      <td>USA</td>\n",
       "      <td>Manuka Honey Choco</td>\n",
       "      <td>1/1/2021</td>\n",
       "      <td>$5,530</td>\n",
       "      <td>179</td>\n",
       "    </tr>\n",
       "  </tbody>\n",
       "</table>\n",
       "</div>"
      ],
      "text/plain": [
       "          Sales Person      Geography              Product      Date   Amount  \\\n",
       "0         Barr Faughny    New Zealand      Raspberry Choco  1/1/2021  $8,414    \n",
       "1  Dennison Crosswaite         Canada           White Choc  1/1/2021    $532    \n",
       "2     Karlen McCaffrey            USA      99% Dark & Pure  1/1/2021  $5,376    \n",
       "3         Barr Faughny    New Zealand  Baker's Choco Chips  1/1/2021    $259    \n",
       "4       Beverie Moffet            USA   Manuka Honey Choco  1/1/2021  $5,530    \n",
       "\n",
       "   Boxes  \n",
       "0    495  \n",
       "1     54  \n",
       "2    269  \n",
       "3     22  \n",
       "4    179  "
      ]
     },
     "execution_count": 26,
     "metadata": {},
     "output_type": "execute_result"
    }
   ],
   "source": [
    "# View a snapshot of your dataset\n",
    "sales.head()"
   ]
  },
  {
   "cell_type": "code",
   "execution_count": 27,
   "metadata": {},
   "outputs": [
    {
     "data": {
      "text/html": [
       "<div>\n",
       "<style scoped>\n",
       "    .dataframe tbody tr th:only-of-type {\n",
       "        vertical-align: middle;\n",
       "    }\n",
       "\n",
       "    .dataframe tbody tr th {\n",
       "        vertical-align: top;\n",
       "    }\n",
       "\n",
       "    .dataframe thead th {\n",
       "        text-align: right;\n",
       "    }\n",
       "</style>\n",
       "<table border=\"1\" class=\"dataframe\">\n",
       "  <thead>\n",
       "    <tr style=\"text-align: right;\">\n",
       "      <th></th>\n",
       "      <th>Sales Person</th>\n",
       "      <th>Geography</th>\n",
       "      <th>Product</th>\n",
       "      <th>Date</th>\n",
       "      <th>Amount</th>\n",
       "      <th>Boxes</th>\n",
       "    </tr>\n",
       "  </thead>\n",
       "  <tbody>\n",
       "    <tr>\n",
       "      <th>3786</th>\n",
       "      <td>Van Tuxwell</td>\n",
       "      <td>India</td>\n",
       "      <td>Drinking Coco</td>\n",
       "      <td>19/1/2022</td>\n",
       "      <td>$10,682</td>\n",
       "      <td>1526</td>\n",
       "    </tr>\n",
       "    <tr>\n",
       "      <th>3787</th>\n",
       "      <td>Rafaelita Blaksland</td>\n",
       "      <td>Australia</td>\n",
       "      <td>Mint Chip Choco</td>\n",
       "      <td>18/1/2022</td>\n",
       "      <td>$11,746</td>\n",
       "      <td>511</td>\n",
       "    </tr>\n",
       "    <tr>\n",
       "      <th>3788</th>\n",
       "      <td>Kelci Walkden</td>\n",
       "      <td>Australia</td>\n",
       "      <td>Spicy Special Slims</td>\n",
       "      <td>3/1/2022</td>\n",
       "      <td>$8,862</td>\n",
       "      <td>1477</td>\n",
       "    </tr>\n",
       "    <tr>\n",
       "      <th>3789</th>\n",
       "      <td>Gunar Cockshoot</td>\n",
       "      <td>New Zealand</td>\n",
       "      <td>Mint Chip Choco</td>\n",
       "      <td>21/1/2022</td>\n",
       "      <td>$11,592</td>\n",
       "      <td>527</td>\n",
       "    </tr>\n",
       "    <tr>\n",
       "      <th>3790</th>\n",
       "      <td>Mallorie Waber</td>\n",
       "      <td>USA</td>\n",
       "      <td>Spicy Special Slims</td>\n",
       "      <td>7/1/2022</td>\n",
       "      <td>$3,871</td>\n",
       "      <td>431</td>\n",
       "    </tr>\n",
       "  </tbody>\n",
       "</table>\n",
       "</div>"
      ],
      "text/plain": [
       "             Sales Person     Geography              Product       Date  \\\n",
       "3786          Van Tuxwell        India         Drinking Coco  19/1/2022   \n",
       "3787  Rafaelita Blaksland    Australia       Mint Chip Choco  18/1/2022   \n",
       "3788        Kelci Walkden    Australia   Spicy Special Slims   3/1/2022   \n",
       "3789      Gunar Cockshoot  New Zealand       Mint Chip Choco  21/1/2022   \n",
       "3790       Mallorie Waber        USA     Spicy Special Slims   7/1/2022   \n",
       "\n",
       "        Amount  Boxes  \n",
       "3786  $10,682    1526  \n",
       "3787  $11,746     511  \n",
       "3788   $8,862    1477  \n",
       "3789  $11,592     527  \n",
       "3790   $3,871     431  "
      ]
     },
     "execution_count": 27,
     "metadata": {},
     "output_type": "execute_result"
    }
   ],
   "source": [
    "# View the last 5 rows of your dataset\n",
    "sales.tail()"
   ]
  },
  {
   "cell_type": "code",
   "execution_count": 28,
   "metadata": {},
   "outputs": [
    {
     "data": {
      "text/plain": [
       "(3791, 6)"
      ]
     },
     "execution_count": 28,
     "metadata": {},
     "output_type": "execute_result"
    }
   ],
   "source": [
    "# View the number of rows and columns in your dataset\n",
    "sales.shape\n",
    "\n"
   ]
  },
  {
   "cell_type": "code",
   "execution_count": 29,
   "metadata": {},
   "outputs": [
    {
     "data": {
      "text/plain": [
       "Index(['Sales Person', 'Geography', 'Product', 'Date', 'Amount', 'Boxes'], dtype='object')"
      ]
     },
     "execution_count": 29,
     "metadata": {},
     "output_type": "execute_result"
    }
   ],
   "source": [
    "# View the column names in your dataset\n",
    "sales.columns\n"
   ]
  },
  {
   "cell_type": "code",
   "execution_count": 30,
   "metadata": {},
   "outputs": [
    {
     "data": {
      "text/plain": [
       "Sales Person    object\n",
       "Geography       object\n",
       "Product         object\n",
       "Date            object\n",
       "Amount          object\n",
       "Boxes            int64\n",
       "dtype: object"
      ]
     },
     "execution_count": 30,
     "metadata": {},
     "output_type": "execute_result"
    }
   ],
   "source": [
    "# View the data types of each column\n",
    "sales.dtypes\n"
   ]
  },
  {
   "cell_type": "code",
   "execution_count": 31,
   "metadata": {},
   "outputs": [
    {
     "name": "stdout",
     "output_type": "stream",
     "text": [
      "<class 'pandas.core.frame.DataFrame'>\n",
      "RangeIndex: 3791 entries, 0 to 3790\n",
      "Data columns (total 6 columns):\n",
      " #   Column        Non-Null Count  Dtype \n",
      "---  ------        --------------  ----- \n",
      " 0   Sales Person  3791 non-null   object\n",
      " 1   Geography     3791 non-null   object\n",
      " 2   Product       3791 non-null   object\n",
      " 3   Date          3791 non-null   object\n",
      " 4   Amount        3791 non-null   object\n",
      " 5   Boxes         3791 non-null   int64 \n",
      "dtypes: int64(1), object(5)\n",
      "memory usage: 177.8+ KB\n"
     ]
    }
   ],
   "source": [
    "# View a summary of your dataset\n",
    "sales.info()\n"
   ]
  },
  {
   "cell_type": "markdown",
   "metadata": {},
   "source": [
    "#### Data Cleaning \n",
    "### Ensure that Amount is captured as float"
   ]
  },
  {
   "cell_type": "code",
   "execution_count": 35,
   "metadata": {},
   "outputs": [
    {
     "data": {
      "text/html": [
       "<div>\n",
       "<style scoped>\n",
       "    .dataframe tbody tr th:only-of-type {\n",
       "        vertical-align: middle;\n",
       "    }\n",
       "\n",
       "    .dataframe tbody tr th {\n",
       "        vertical-align: top;\n",
       "    }\n",
       "\n",
       "    .dataframe thead th {\n",
       "        text-align: right;\n",
       "    }\n",
       "</style>\n",
       "<table border=\"1\" class=\"dataframe\">\n",
       "  <thead>\n",
       "    <tr style=\"text-align: right;\">\n",
       "      <th></th>\n",
       "      <th>Sales Person</th>\n",
       "      <th>Geography</th>\n",
       "      <th>Product</th>\n",
       "      <th>Date</th>\n",
       "      <th>Amount($)</th>\n",
       "      <th>Boxes</th>\n",
       "    </tr>\n",
       "  </thead>\n",
       "  <tbody>\n",
       "    <tr>\n",
       "      <th>0</th>\n",
       "      <td>Barr Faughny</td>\n",
       "      <td>New Zealand</td>\n",
       "      <td>Raspberry Choco</td>\n",
       "      <td>1/1/2021</td>\n",
       "      <td>$8,414</td>\n",
       "      <td>495</td>\n",
       "    </tr>\n",
       "    <tr>\n",
       "      <th>1</th>\n",
       "      <td>Dennison Crosswaite</td>\n",
       "      <td>Canada</td>\n",
       "      <td>White Choc</td>\n",
       "      <td>1/1/2021</td>\n",
       "      <td>$532</td>\n",
       "      <td>54</td>\n",
       "    </tr>\n",
       "    <tr>\n",
       "      <th>2</th>\n",
       "      <td>Karlen McCaffrey</td>\n",
       "      <td>USA</td>\n",
       "      <td>99% Dark &amp; Pure</td>\n",
       "      <td>1/1/2021</td>\n",
       "      <td>$5,376</td>\n",
       "      <td>269</td>\n",
       "    </tr>\n",
       "    <tr>\n",
       "      <th>3</th>\n",
       "      <td>Barr Faughny</td>\n",
       "      <td>New Zealand</td>\n",
       "      <td>Baker's Choco Chips</td>\n",
       "      <td>1/1/2021</td>\n",
       "      <td>$259</td>\n",
       "      <td>22</td>\n",
       "    </tr>\n",
       "    <tr>\n",
       "      <th>4</th>\n",
       "      <td>Beverie Moffet</td>\n",
       "      <td>USA</td>\n",
       "      <td>Manuka Honey Choco</td>\n",
       "      <td>1/1/2021</td>\n",
       "      <td>$5,530</td>\n",
       "      <td>179</td>\n",
       "    </tr>\n",
       "  </tbody>\n",
       "</table>\n",
       "</div>"
      ],
      "text/plain": [
       "          Sales Person      Geography              Product      Date  \\\n",
       "0         Barr Faughny    New Zealand      Raspberry Choco  1/1/2021   \n",
       "1  Dennison Crosswaite         Canada           White Choc  1/1/2021   \n",
       "2     Karlen McCaffrey            USA      99% Dark & Pure  1/1/2021   \n",
       "3         Barr Faughny    New Zealand  Baker's Choco Chips  1/1/2021   \n",
       "4       Beverie Moffet            USA   Manuka Honey Choco  1/1/2021   \n",
       "\n",
       "  Amount($)  Boxes  \n",
       "0   $8,414     495  \n",
       "1     $532      54  \n",
       "2   $5,376     269  \n",
       "3     $259      22  \n",
       "4   $5,530     179  "
      ]
     },
     "execution_count": 35,
     "metadata": {},
     "output_type": "execute_result"
    }
   ],
   "source": [
    "# Change column name from Amount to Amount($)\n",
    "sales.rename(columns={\"Amount\": \"Amount($)\"}, inplace=True)\n",
    "sales.head()"
   ]
  },
  {
   "cell_type": "code",
   "execution_count": 37,
   "metadata": {},
   "outputs": [
    {
     "data": {
      "text/html": [
       "<div>\n",
       "<style scoped>\n",
       "    .dataframe tbody tr th:only-of-type {\n",
       "        vertical-align: middle;\n",
       "    }\n",
       "\n",
       "    .dataframe tbody tr th {\n",
       "        vertical-align: top;\n",
       "    }\n",
       "\n",
       "    .dataframe thead th {\n",
       "        text-align: right;\n",
       "    }\n",
       "</style>\n",
       "<table border=\"1\" class=\"dataframe\">\n",
       "  <thead>\n",
       "    <tr style=\"text-align: right;\">\n",
       "      <th></th>\n",
       "      <th>Sales Person</th>\n",
       "      <th>Geography</th>\n",
       "      <th>Product</th>\n",
       "      <th>Date</th>\n",
       "      <th>Amount($)</th>\n",
       "      <th>Boxes</th>\n",
       "    </tr>\n",
       "  </thead>\n",
       "  <tbody>\n",
       "    <tr>\n",
       "      <th>0</th>\n",
       "      <td>Barr Faughny</td>\n",
       "      <td>New Zealand</td>\n",
       "      <td>Raspberry Choco</td>\n",
       "      <td>1/1/2021</td>\n",
       "      <td>8414</td>\n",
       "      <td>495</td>\n",
       "    </tr>\n",
       "    <tr>\n",
       "      <th>1</th>\n",
       "      <td>Dennison Crosswaite</td>\n",
       "      <td>Canada</td>\n",
       "      <td>White Choc</td>\n",
       "      <td>1/1/2021</td>\n",
       "      <td>532</td>\n",
       "      <td>54</td>\n",
       "    </tr>\n",
       "    <tr>\n",
       "      <th>2</th>\n",
       "      <td>Karlen McCaffrey</td>\n",
       "      <td>USA</td>\n",
       "      <td>99% Dark &amp; Pure</td>\n",
       "      <td>1/1/2021</td>\n",
       "      <td>5376</td>\n",
       "      <td>269</td>\n",
       "    </tr>\n",
       "    <tr>\n",
       "      <th>3</th>\n",
       "      <td>Barr Faughny</td>\n",
       "      <td>New Zealand</td>\n",
       "      <td>Baker's Choco Chips</td>\n",
       "      <td>1/1/2021</td>\n",
       "      <td>259</td>\n",
       "      <td>22</td>\n",
       "    </tr>\n",
       "    <tr>\n",
       "      <th>4</th>\n",
       "      <td>Beverie Moffet</td>\n",
       "      <td>USA</td>\n",
       "      <td>Manuka Honey Choco</td>\n",
       "      <td>1/1/2021</td>\n",
       "      <td>5530</td>\n",
       "      <td>179</td>\n",
       "    </tr>\n",
       "  </tbody>\n",
       "</table>\n",
       "</div>"
      ],
      "text/plain": [
       "          Sales Person      Geography              Product      Date  \\\n",
       "0         Barr Faughny    New Zealand      Raspberry Choco  1/1/2021   \n",
       "1  Dennison Crosswaite         Canada           White Choc  1/1/2021   \n",
       "2     Karlen McCaffrey            USA      99% Dark & Pure  1/1/2021   \n",
       "3         Barr Faughny    New Zealand  Baker's Choco Chips  1/1/2021   \n",
       "4       Beverie Moffet            USA   Manuka Honey Choco  1/1/2021   \n",
       "\n",
       "  Amount($)  Boxes  \n",
       "0     8414     495  \n",
       "1      532      54  \n",
       "2     5376     269  \n",
       "3      259      22  \n",
       "4     5530     179  "
      ]
     },
     "execution_count": 37,
     "metadata": {},
     "output_type": "execute_result"
    }
   ],
   "source": [
    "# Remove the '$' and ',' from the string in the Amount($) column\n",
    "sales[\"Amount($)\"] = sales[\"Amount($)\"].str.replace('$', '').str.replace(',', '')\n",
    "sales.head()"
   ]
  },
  {
   "cell_type": "code",
   "execution_count": 38,
   "metadata": {},
   "outputs": [
    {
     "data": {
      "text/html": [
       "<div>\n",
       "<style scoped>\n",
       "    .dataframe tbody tr th:only-of-type {\n",
       "        vertical-align: middle;\n",
       "    }\n",
       "\n",
       "    .dataframe tbody tr th {\n",
       "        vertical-align: top;\n",
       "    }\n",
       "\n",
       "    .dataframe thead th {\n",
       "        text-align: right;\n",
       "    }\n",
       "</style>\n",
       "<table border=\"1\" class=\"dataframe\">\n",
       "  <thead>\n",
       "    <tr style=\"text-align: right;\">\n",
       "      <th></th>\n",
       "      <th>Sales Person</th>\n",
       "      <th>Geography</th>\n",
       "      <th>Product</th>\n",
       "      <th>Date</th>\n",
       "      <th>Amount($)</th>\n",
       "      <th>Boxes</th>\n",
       "    </tr>\n",
       "  </thead>\n",
       "  <tbody>\n",
       "    <tr>\n",
       "      <th>0</th>\n",
       "      <td>Barr Faughny</td>\n",
       "      <td>New Zealand</td>\n",
       "      <td>Raspberry Choco</td>\n",
       "      <td>1/1/2021</td>\n",
       "      <td>8414.0</td>\n",
       "      <td>495</td>\n",
       "    </tr>\n",
       "    <tr>\n",
       "      <th>1</th>\n",
       "      <td>Dennison Crosswaite</td>\n",
       "      <td>Canada</td>\n",
       "      <td>White Choc</td>\n",
       "      <td>1/1/2021</td>\n",
       "      <td>532.0</td>\n",
       "      <td>54</td>\n",
       "    </tr>\n",
       "    <tr>\n",
       "      <th>2</th>\n",
       "      <td>Karlen McCaffrey</td>\n",
       "      <td>USA</td>\n",
       "      <td>99% Dark &amp; Pure</td>\n",
       "      <td>1/1/2021</td>\n",
       "      <td>5376.0</td>\n",
       "      <td>269</td>\n",
       "    </tr>\n",
       "    <tr>\n",
       "      <th>3</th>\n",
       "      <td>Barr Faughny</td>\n",
       "      <td>New Zealand</td>\n",
       "      <td>Baker's Choco Chips</td>\n",
       "      <td>1/1/2021</td>\n",
       "      <td>259.0</td>\n",
       "      <td>22</td>\n",
       "    </tr>\n",
       "    <tr>\n",
       "      <th>4</th>\n",
       "      <td>Beverie Moffet</td>\n",
       "      <td>USA</td>\n",
       "      <td>Manuka Honey Choco</td>\n",
       "      <td>1/1/2021</td>\n",
       "      <td>5530.0</td>\n",
       "      <td>179</td>\n",
       "    </tr>\n",
       "  </tbody>\n",
       "</table>\n",
       "</div>"
      ],
      "text/plain": [
       "          Sales Person      Geography              Product      Date  \\\n",
       "0         Barr Faughny    New Zealand      Raspberry Choco  1/1/2021   \n",
       "1  Dennison Crosswaite         Canada           White Choc  1/1/2021   \n",
       "2     Karlen McCaffrey            USA      99% Dark & Pure  1/1/2021   \n",
       "3         Barr Faughny    New Zealand  Baker's Choco Chips  1/1/2021   \n",
       "4       Beverie Moffet            USA   Manuka Honey Choco  1/1/2021   \n",
       "\n",
       "   Amount($)  Boxes  \n",
       "0     8414.0    495  \n",
       "1      532.0     54  \n",
       "2     5376.0    269  \n",
       "3      259.0     22  \n",
       "4     5530.0    179  "
      ]
     },
     "execution_count": 38,
     "metadata": {},
     "output_type": "execute_result"
    }
   ],
   "source": [
    "# Convert the clean string to a numeric type (float)\n",
    "convert_amount = sales[\"Amount($)\"].astype(float)\n",
    "sales[\"Amount($)\"] = convert_amount\n",
    "sales.head()"
   ]
  },
  {
   "cell_type": "markdown",
   "metadata": {},
   "source": [
    "### Checking for missing data, duplicates and others"
   ]
  },
  {
   "cell_type": "code",
   "execution_count": 32,
   "metadata": {},
   "outputs": [
    {
     "data": {
      "text/plain": [
       "Sales Person    0\n",
       "Geography       0\n",
       "Product         0\n",
       "Date            0\n",
       "Amount          0\n",
       "Boxes           0\n",
       "dtype: int64"
      ]
     },
     "execution_count": 32,
     "metadata": {},
     "output_type": "execute_result"
    }
   ],
   "source": [
    "# Check for dirtiness of data (missing data)\n",
    "sales.isna().sum()"
   ]
  },
  {
   "cell_type": "code",
   "execution_count": 39,
   "metadata": {},
   "outputs": [
    {
     "data": {
      "text/plain": [
       "np.int64(0)"
      ]
     },
     "execution_count": 39,
     "metadata": {},
     "output_type": "execute_result"
    }
   ],
   "source": [
    "# Checking for Duplicates\n",
    "sales.duplicated().sum()\n"
   ]
  },
  {
   "cell_type": "code",
   "execution_count": null,
   "metadata": {
    "id": "CAb-U7tO_2Zg"
   },
   "outputs": [
    {
     "data": {
      "text/html": [
       "<div>\n",
       "<style scoped>\n",
       "    .dataframe tbody tr th:only-of-type {\n",
       "        vertical-align: middle;\n",
       "    }\n",
       "\n",
       "    .dataframe tbody tr th {\n",
       "        vertical-align: top;\n",
       "    }\n",
       "\n",
       "    .dataframe thead th {\n",
       "        text-align: right;\n",
       "    }\n",
       "</style>\n",
       "<table border=\"1\" class=\"dataframe\">\n",
       "  <thead>\n",
       "    <tr style=\"text-align: right;\">\n",
       "      <th></th>\n",
       "      <th>Sales Person</th>\n",
       "      <th>Geography</th>\n",
       "      <th>Product</th>\n",
       "      <th>Date</th>\n",
       "      <th>Amount($)</th>\n",
       "      <th>Boxes</th>\n",
       "      <th>Unit Price ($)</th>\n",
       "    </tr>\n",
       "  </thead>\n",
       "  <tbody>\n",
       "    <tr>\n",
       "      <th>0</th>\n",
       "      <td>Barr Faughny</td>\n",
       "      <td>New Zealand</td>\n",
       "      <td>Raspberry Choco</td>\n",
       "      <td>1/1/2021</td>\n",
       "      <td>8414.0</td>\n",
       "      <td>495</td>\n",
       "      <td>17.00</td>\n",
       "    </tr>\n",
       "    <tr>\n",
       "      <th>1</th>\n",
       "      <td>Dennison Crosswaite</td>\n",
       "      <td>Canada</td>\n",
       "      <td>White Choc</td>\n",
       "      <td>1/1/2021</td>\n",
       "      <td>532.0</td>\n",
       "      <td>54</td>\n",
       "      <td>9.85</td>\n",
       "    </tr>\n",
       "    <tr>\n",
       "      <th>2</th>\n",
       "      <td>Karlen McCaffrey</td>\n",
       "      <td>USA</td>\n",
       "      <td>99% Dark &amp; Pure</td>\n",
       "      <td>1/1/2021</td>\n",
       "      <td>5376.0</td>\n",
       "      <td>269</td>\n",
       "      <td>19.99</td>\n",
       "    </tr>\n",
       "    <tr>\n",
       "      <th>3</th>\n",
       "      <td>Barr Faughny</td>\n",
       "      <td>New Zealand</td>\n",
       "      <td>Baker's Choco Chips</td>\n",
       "      <td>1/1/2021</td>\n",
       "      <td>259.0</td>\n",
       "      <td>22</td>\n",
       "      <td>11.77</td>\n",
       "    </tr>\n",
       "    <tr>\n",
       "      <th>4</th>\n",
       "      <td>Beverie Moffet</td>\n",
       "      <td>USA</td>\n",
       "      <td>Manuka Honey Choco</td>\n",
       "      <td>1/1/2021</td>\n",
       "      <td>5530.0</td>\n",
       "      <td>179</td>\n",
       "      <td>30.89</td>\n",
       "    </tr>\n",
       "  </tbody>\n",
       "</table>\n",
       "</div>"
      ],
      "text/plain": [
       "          Sales Person      Geography              Product      Date  \\\n",
       "0         Barr Faughny    New Zealand      Raspberry Choco  1/1/2021   \n",
       "1  Dennison Crosswaite         Canada           White Choc  1/1/2021   \n",
       "2     Karlen McCaffrey            USA      99% Dark & Pure  1/1/2021   \n",
       "3         Barr Faughny    New Zealand  Baker's Choco Chips  1/1/2021   \n",
       "4       Beverie Moffet            USA   Manuka Honey Choco  1/1/2021   \n",
       "\n",
       "   Amount($)  Boxes  Unit Price ($)  \n",
       "0     8414.0    495           17.00  \n",
       "1      532.0     54            9.85  \n",
       "2     5376.0    269           19.99  \n",
       "3      259.0     22           11.77  \n",
       "4     5530.0    179           30.89  "
      ]
     },
     "execution_count": 49,
     "metadata": {},
     "output_type": "execute_result"
    }
   ],
   "source": [
    "# Do a little bit of feature engineering\n",
    "\n",
    "# add revenue unit price  column\n",
    "# To create a new column, you start with creating the new columns as a variable name\n",
    "\n",
    "# Amount/Boxes  = Unit Price\n",
    " \n",
    "\n",
    "sales[\"Unit Price ($)\"] = sales[\"Amount($)\"]/sales[\"Boxes\"]\n",
    " \n",
    "# Rounding to 2 decimal places\n",
    "sales[\"Unit Price ($)\"] = sales[\"Unit Price ($)\"].round(2)\n",
    "sales.head()\n",
    "\n",
    "\n",
    "\n",
    "\n",
    "\n",
    "\n"
   ]
  },
  {
   "cell_type": "markdown",
   "metadata": {
    "id": "UdVhnSisXhCG"
   },
   "source": [
    "**Feature Engineering**\n",
    "* Explanation:\n",
    "\n",
    "Feature Engineering- This means 3 things, one is useful here and the other two for machine learning. Feature engineering in this context, has to do with creating a new feature or column by combining, extracting or simply doing calculation on an existing column or feature."
   ]
  },
  {
   "cell_type": "code",
   "execution_count": 50,
   "metadata": {
    "id": "XnrOwojSAN3P"
   },
   "outputs": [
    {
     "data": {
      "text/html": [
       "<div>\n",
       "<style scoped>\n",
       "    .dataframe tbody tr th:only-of-type {\n",
       "        vertical-align: middle;\n",
       "    }\n",
       "\n",
       "    .dataframe tbody tr th {\n",
       "        vertical-align: top;\n",
       "    }\n",
       "\n",
       "    .dataframe thead th {\n",
       "        text-align: right;\n",
       "    }\n",
       "</style>\n",
       "<table border=\"1\" class=\"dataframe\">\n",
       "  <thead>\n",
       "    <tr style=\"text-align: right;\">\n",
       "      <th></th>\n",
       "      <th>Sales Person</th>\n",
       "      <th>Geography</th>\n",
       "      <th>Product</th>\n",
       "      <th>Date</th>\n",
       "      <th>Amount($)</th>\n",
       "      <th>Boxes</th>\n",
       "      <th>Unit Price ($)</th>\n",
       "    </tr>\n",
       "  </thead>\n",
       "  <tbody>\n",
       "    <tr>\n",
       "      <th>0</th>\n",
       "      <td>Barr Faughny</td>\n",
       "      <td>New Zealand</td>\n",
       "      <td>Raspberry Choco</td>\n",
       "      <td>1/1/2021</td>\n",
       "      <td>8414.0</td>\n",
       "      <td>495</td>\n",
       "      <td>17.00</td>\n",
       "    </tr>\n",
       "    <tr>\n",
       "      <th>1</th>\n",
       "      <td>Dennison Crosswaite</td>\n",
       "      <td>Canada</td>\n",
       "      <td>White Choc</td>\n",
       "      <td>1/1/2021</td>\n",
       "      <td>532.0</td>\n",
       "      <td>54</td>\n",
       "      <td>9.85</td>\n",
       "    </tr>\n",
       "    <tr>\n",
       "      <th>2</th>\n",
       "      <td>Karlen McCaffrey</td>\n",
       "      <td>USA</td>\n",
       "      <td>99% Dark &amp; Pure</td>\n",
       "      <td>1/1/2021</td>\n",
       "      <td>5376.0</td>\n",
       "      <td>269</td>\n",
       "      <td>19.99</td>\n",
       "    </tr>\n",
       "    <tr>\n",
       "      <th>3</th>\n",
       "      <td>Barr Faughny</td>\n",
       "      <td>New Zealand</td>\n",
       "      <td>Baker's Choco Chips</td>\n",
       "      <td>1/1/2021</td>\n",
       "      <td>259.0</td>\n",
       "      <td>22</td>\n",
       "      <td>11.77</td>\n",
       "    </tr>\n",
       "    <tr>\n",
       "      <th>4</th>\n",
       "      <td>Beverie Moffet</td>\n",
       "      <td>USA</td>\n",
       "      <td>Manuka Honey Choco</td>\n",
       "      <td>1/1/2021</td>\n",
       "      <td>5530.0</td>\n",
       "      <td>179</td>\n",
       "      <td>30.89</td>\n",
       "    </tr>\n",
       "  </tbody>\n",
       "</table>\n",
       "</div>"
      ],
      "text/plain": [
       "          Sales Person      Geography              Product      Date  \\\n",
       "0         Barr Faughny    New Zealand      Raspberry Choco  1/1/2021   \n",
       "1  Dennison Crosswaite         Canada           White Choc  1/1/2021   \n",
       "2     Karlen McCaffrey            USA      99% Dark & Pure  1/1/2021   \n",
       "3         Barr Faughny    New Zealand  Baker's Choco Chips  1/1/2021   \n",
       "4       Beverie Moffet            USA   Manuka Honey Choco  1/1/2021   \n",
       "\n",
       "   Amount($)  Boxes  Unit Price ($)  \n",
       "0     8414.0    495           17.00  \n",
       "1      532.0     54            9.85  \n",
       "2     5376.0    269           19.99  \n",
       "3      259.0     22           11.77  \n",
       "4     5530.0    179           30.89  "
      ]
     },
     "execution_count": 50,
     "metadata": {},
     "output_type": "execute_result"
    }
   ],
   "source": [
    "# view to see if the changes has been effected\n",
    "sales.head()"
   ]
  },
  {
   "cell_type": "code",
   "execution_count": 51,
   "metadata": {
    "id": "dhD1i2R2BF9X"
   },
   "outputs": [
    {
     "data": {
      "text/plain": [
       "Sales Person       object\n",
       "Geography          object\n",
       "Product            object\n",
       "Date               object\n",
       "Amount($)         float64\n",
       "Boxes               int64\n",
       "Unit Price ($)    float64\n",
       "dtype: object"
      ]
     },
     "execution_count": 51,
     "metadata": {},
     "output_type": "execute_result"
    }
   ],
   "source": [
    "# lets check data types\n",
    "sales.dtypes"
   ]
  },
  {
   "cell_type": "code",
   "execution_count": 56,
   "metadata": {},
   "outputs": [
    {
     "data": {
      "text/plain": [
       "Sales Person              object\n",
       "Geography                 object\n",
       "Product                   object\n",
       "Date              datetime64[ns]\n",
       "Amount($)                float64\n",
       "Boxes                      int64\n",
       "Unit Price ($)           float64\n",
       "dtype: object"
      ]
     },
     "execution_count": 56,
     "metadata": {},
     "output_type": "execute_result"
    }
   ],
   "source": [
    "# lets convert the date column to datatime\n",
    "# Using \"pd.to_datetime()\" function\n",
    "\n",
    "#to_datetime()\n",
    "\n",
    "# datetime()\n",
    "sales[\"Date\"] = pd.to_datetime(sales[\"Date\"], dayfirst=True)\n",
    "sales.dtypes"
   ]
  },
  {
   "cell_type": "code",
   "execution_count": 57,
   "metadata": {
    "id": "TyrxXfuSDOEO"
   },
   "outputs": [
    {
     "data": {
      "text/plain": [
       "Sales Person              object\n",
       "Geography                 object\n",
       "Product                   object\n",
       "Date              datetime64[ns]\n",
       "Amount($)                float64\n",
       "Boxes                      int64\n",
       "Unit Price ($)           float64\n",
       "dtype: object"
      ]
     },
     "execution_count": 57,
     "metadata": {},
     "output_type": "execute_result"
    }
   ],
   "source": [
    "# lets check our data types\n",
    "sales.dtypes"
   ]
  },
  {
   "cell_type": "code",
   "execution_count": 58,
   "metadata": {
    "id": "4mRiBsb5DfCI"
   },
   "outputs": [
    {
     "data": {
      "text/plain": [
       "<Axes: xlabel='Data Types', ylabel='Count'>"
      ]
     },
     "execution_count": 58,
     "metadata": {},
     "output_type": "execute_result"
    },
    {
     "data": {
      "image/png": "[encoded data removed]",
      "text/plain": [
       "<Figure size 640x480 with 1 Axes>"
      ]
     },
     "metadata": {},
     "output_type": "display_data"
    }
   ],
   "source": [
    "# lets just plot  this, its not important though.\n",
    "sales.dtypes.value_counts().plot(kind=\"bar\", xlabel = \"Data Types\", ylabel = \"Count\")"
   ]
  },
  {
   "cell_type": "code",
   "execution_count": 59,
   "metadata": {
    "id": "FgUXJ9YWElC2"
   },
   "outputs": [],
   "source": [
    "# Lets do more feature engineering\n",
    "\n",
    "# lets  work on our datetime to extract the month,year and week name\n",
    "# using \".dt.year\",\".dt.month_name()\",\".day_name()\n",
    "\n",
    "sales[\"Year\"] = sales[\"Date\"].dt.year\n",
    "sales[\"Month\"] = sales[\"Date\"].dt.month_name()\n",
    "sales[\"Week\"] = sales[\"Date\"].dt.day_name()"
   ]
  },
  {
   "cell_type": "code",
   "execution_count": 60,
   "metadata": {
    "id": "2MlmLscRFv99"
   },
   "outputs": [
    {
     "data": {
      "text/html": [
       "<div>\n",
       "<style scoped>\n",
       "    .dataframe tbody tr th:only-of-type {\n",
       "        vertical-align: middle;\n",
       "    }\n",
       "\n",
       "    .dataframe tbody tr th {\n",
       "        vertical-align: top;\n",
       "    }\n",
       "\n",
       "    .dataframe thead th {\n",
       "        text-align: right;\n",
       "    }\n",
       "</style>\n",
       "<table border=\"1\" class=\"dataframe\">\n",
       "  <thead>\n",
       "    <tr style=\"text-align: right;\">\n",
       "      <th></th>\n",
       "      <th>Sales Person</th>\n",
       "      <th>Geography</th>\n",
       "      <th>Product</th>\n",
       "      <th>Date</th>\n",
       "      <th>Amount($)</th>\n",
       "      <th>Boxes</th>\n",
       "      <th>Unit Price ($)</th>\n",
       "      <th>Year</th>\n",
       "      <th>Month</th>\n",
       "      <th>Week</th>\n",
       "    </tr>\n",
       "  </thead>\n",
       "  <tbody>\n",
       "    <tr>\n",
       "      <th>0</th>\n",
       "      <td>Barr Faughny</td>\n",
       "      <td>New Zealand</td>\n",
       "      <td>Raspberry Choco</td>\n",
       "      <td>2021-01-01</td>\n",
       "      <td>8414.0</td>\n",
       "      <td>495</td>\n",
       "      <td>17.00</td>\n",
       "      <td>2021</td>\n",
       "      <td>January</td>\n",
       "      <td>Friday</td>\n",
       "    </tr>\n",
       "    <tr>\n",
       "      <th>1</th>\n",
       "      <td>Dennison Crosswaite</td>\n",
       "      <td>Canada</td>\n",
       "      <td>White Choc</td>\n",
       "      <td>2021-01-01</td>\n",
       "      <td>532.0</td>\n",
       "      <td>54</td>\n",
       "      <td>9.85</td>\n",
       "      <td>2021</td>\n",
       "      <td>January</td>\n",
       "      <td>Friday</td>\n",
       "    </tr>\n",
       "    <tr>\n",
       "      <th>2</th>\n",
       "      <td>Karlen McCaffrey</td>\n",
       "      <td>USA</td>\n",
       "      <td>99% Dark &amp; Pure</td>\n",
       "      <td>2021-01-01</td>\n",
       "      <td>5376.0</td>\n",
       "      <td>269</td>\n",
       "      <td>19.99</td>\n",
       "      <td>2021</td>\n",
       "      <td>January</td>\n",
       "      <td>Friday</td>\n",
       "    </tr>\n",
       "    <tr>\n",
       "      <th>3</th>\n",
       "      <td>Barr Faughny</td>\n",
       "      <td>New Zealand</td>\n",
       "      <td>Baker's Choco Chips</td>\n",
       "      <td>2021-01-01</td>\n",
       "      <td>259.0</td>\n",
       "      <td>22</td>\n",
       "      <td>11.77</td>\n",
       "      <td>2021</td>\n",
       "      <td>January</td>\n",
       "      <td>Friday</td>\n",
       "    </tr>\n",
       "    <tr>\n",
       "      <th>4</th>\n",
       "      <td>Beverie Moffet</td>\n",
       "      <td>USA</td>\n",
       "      <td>Manuka Honey Choco</td>\n",
       "      <td>2021-01-01</td>\n",
       "      <td>5530.0</td>\n",
       "      <td>179</td>\n",
       "      <td>30.89</td>\n",
       "      <td>2021</td>\n",
       "      <td>January</td>\n",
       "      <td>Friday</td>\n",
       "    </tr>\n",
       "  </tbody>\n",
       "</table>\n",
       "</div>"
      ],
      "text/plain": [
       "          Sales Person      Geography              Product       Date  \\\n",
       "0         Barr Faughny    New Zealand      Raspberry Choco 2021-01-01   \n",
       "1  Dennison Crosswaite         Canada           White Choc 2021-01-01   \n",
       "2     Karlen McCaffrey            USA      99% Dark & Pure 2021-01-01   \n",
       "3         Barr Faughny    New Zealand  Baker's Choco Chips 2021-01-01   \n",
       "4       Beverie Moffet            USA   Manuka Honey Choco 2021-01-01   \n",
       "\n",
       "   Amount($)  Boxes  Unit Price ($)  Year    Month    Week  \n",
       "0     8414.0    495           17.00  2021  January  Friday  \n",
       "1      532.0     54            9.85  2021  January  Friday  \n",
       "2     5376.0    269           19.99  2021  January  Friday  \n",
       "3      259.0     22           11.77  2021  January  Friday  \n",
       "4     5530.0    179           30.89  2021  January  Friday  "
      ]
     },
     "execution_count": 60,
     "metadata": {},
     "output_type": "execute_result"
    }
   ],
   "source": [
    "sales.head()"
   ]
  },
  {
   "cell_type": "markdown",
   "metadata": {
    "id": "Av7_MOpfTuFE"
   },
   "source": [
    "#2.0 Steps to Analysis\n",
    "**Note:** This is after you have followed the ETL(Extract Transform Load) frame work, this is you importing your dataset, cleaning and preparing it for analysis\n",
    "\n",
    "### A. Work on the KPI's (Key performance index of this data)\n",
    "1. Total units sold\n",
    "2. Total Revenue\n",
    "3. Average Revenue per unit\n",
    "4. Numbers of products\n",
    "5. Numbers of Sales Agents\n",
    "\n",
    "### B. Work on the insights by creating models(Note that creating models in data analysis is different from building models in machine learning)\n",
    "1. Total monthly revenue by Year\n",
    "2. Total revenue by branch\n",
    "3. Total revenue by products\n",
    "4. Total revenue by sales agent\n",
    "5. Total revenue by week\n",
    "6. Total revenue by month\n",
    "7. Trends of sales\n",
    "\n",
    "### C. Build your dash board\n",
    "1. Add the title of your analysis.\n",
    "2. Add the business/company\n",
    "3. Add your KPI's\n",
    "4. Add Charts with appropriate labelling\n",
    "5. Add your slicer if you are working with streamlit or excel or PowerBi or Tableau to make your dashboard interactive(if not, exclude it)\n",
    "\n",
    "### C. Report your insights\n",
    "1. Start with the an executive summary briefly explaining what you and briefly introducing the KPI's.\n",
    "2. Explain your insights in a narative and relatable way using your visuals.\n",
    "\n",
    "### D. Make recommendation\n",
    "1. What should the business owner to increase monthly sales\n",
    "2. Which of the brannches should be given more attention\n",
    "3. Which products should be removed from the stock, which products should be purchased more\n",
    "4. Which of the sales agents should be given more incentives/promoted to sales managers position\n",
    "\n"
   ]
  },
  {
   "cell_type": "markdown",
   "metadata": {
    "id": "Eq6Pf3_OWa4q"
   },
   "source": [
    "Ronald Coase-\"if you torture the data long enough, it will confess to anything\""
   ]
  },
  {
   "cell_type": "markdown",
   "metadata": {
    "id": "-nLa9qkXkmgh"
   },
   "source": [
    "### A. Working on the PKI's\n"
   ]
  },
  {
   "cell_type": "code",
   "execution_count": null,
   "metadata": {
    "id": "QDv9P7ogEhdl"
   },
   "outputs": [],
   "source": []
  },
  {
   "cell_type": "code",
   "execution_count": 63,
   "metadata": {
    "id": "6DCjVK6PPBI6"
   },
   "outputs": [
    {
     "name": "stdout",
     "output_type": "stream",
     "text": [
      "Total goods sold: 1344574 boxes\n"
     ]
    }
   ],
   "source": [
    "#1. Total boxes sold\n",
    "\n",
    "Total_goods_sold = sales[\"Boxes\"].sum()\n",
    "print(f\"Total goods sold: {Total_goods_sold} boxes\")"
   ]
  },
  {
   "cell_type": "code",
   "execution_count": 65,
   "metadata": {
    "id": "3MemXQzdlitv"
   },
   "outputs": [
    {
     "name": "stdout",
     "output_type": "stream",
     "text": [
      "Total Revenue: $21701722.0\n"
     ]
    }
   ],
   "source": [
    "#2. Total Revenue\n",
    "Total_Revenue = sales[\"Amount($)\"].sum()\n",
    "print(f\"Total Revenue: ${Total_Revenue}\")"
   ]
  },
  {
   "cell_type": "code",
   "execution_count": 70,
   "metadata": {
    "id": "FrxZGVDMluqG"
   },
   "outputs": [
    {
     "name": "stdout",
     "output_type": "stream",
     "text": [
      "Average Revenue per box: $16.14\n"
     ]
    }
   ],
   "source": [
    "#3. Average Revenue per box\n",
    "## using \"round() function to approximate to 2 decimal place\"\n",
    "Average_revenue_per_box = round(Total_Revenue / Total_goods_sold,2)\n",
    "print(f\"Average Revenue per box: ${Average_revenue_per_box}\")"
   ]
  },
  {
   "cell_type": "code",
   "execution_count": 68,
   "metadata": {
    "id": "z1mP12WCmeT3"
   },
   "outputs": [
    {
     "name": "stdout",
     "output_type": "stream",
     "text": [
      "Numbers of products: 25\n"
     ]
    }
   ],
   "source": [
    "#4. Numbers of products\n",
    "## using the .nunique() shows the numbers of unique values\n",
    "Numbers_of_products = sales[\"Product\"].nunique()\n",
    "print(f\"Numbers of products: {Numbers_of_products}\")"
   ]
  },
  {
   "cell_type": "code",
   "execution_count": 71,
   "metadata": {},
   "outputs": [
    {
     "name": "stdout",
     "output_type": "stream",
     "text": [
      "Numbers of Countries: 42\n"
     ]
    }
   ],
   "source": [
    "#5. Numbers of Countries\n",
    "Numbers_of_countries = sales[\"Geography\"].nunique()\n",
    "print(f\"Numbers of Countries: {Numbers_of_countries}\")\n",
    " "
   ]
  },
  {
   "cell_type": "code",
   "execution_count": 73,
   "metadata": {
    "id": "u7FNChcqnozo"
   },
   "outputs": [
    {
     "name": "stdout",
     "output_type": "stream",
     "text": [
      "Numbers of Sales Persons: 26\n"
     ]
    }
   ],
   "source": [
    "#6. Numbers of Sales Persons\n",
    "Numbers_of_sales_persons = sales[\"Sales Person\"].nunique()\n",
    "print(f\"Numbers of Sales Persons: {Numbers_of_sales_persons}\")"
   ]
  },
  {
   "cell_type": "code",
   "execution_count": 77,
   "metadata": {},
   "outputs": [
    {
     "name": "stdout",
     "output_type": "stream",
     "text": [
      "Number of years in the dataset: 2\n",
      "List of years in the dataset: [2021 2022]\n"
     ]
    }
   ],
   "source": [
    "#7 Number of years in the dataset\n",
    "Number_of_years = sales[\"Year\"].nunique()\n",
    "print(f\"Number of years in the dataset: {Number_of_years}\")\n",
    "\n",
    "#8. List the years in the dataset\n",
    "List_of_years = sales[\"Year\"].unique()\n",
    "print(f\"List of years in the dataset: {List_of_years}\")\n"
   ]
  },
  {
   "cell_type": "markdown",
   "metadata": {
    "id": "i-br0R9un9AH"
   },
   "source": [
    "##B. Work on the insights by creating models and plotting their charts."
   ]
  },
  {
   "cell_type": "code",
   "execution_count": 74,
   "metadata": {
    "id": "PvjbPHJMF1gd"
   },
   "outputs": [],
   "source": [
    "# Set index using the date column\n",
    "sales.set_index(\"Date\", inplace=True)"
   ]
  },
  {
   "cell_type": "code",
   "execution_count": null,
   "metadata": {
    "id": "oCOlGQMrI127"
   },
   "outputs": [
    {
     "data": {
      "text/plain": [
       "array([2021, 2022], dtype=int32)"
      ]
     },
     "execution_count": 92,
     "metadata": {},
     "output_type": "execute_result"
    }
   ],
   "source": [
    "#List of years in the dataset\n",
    "\n",
    "sales.Year.unique()"
   ]
  },
  {
   "cell_type": "markdown",
   "metadata": {},
   "source": [
    "Calculating the Total Monthly revenue for year 2021 and ploting the chart using 3 visualization packages in python"
   ]
  },
  {
   "cell_type": "code",
   "execution_count": null,
   "metadata": {
    "id": "BEkdom-nJg_J"
   },
   "outputs": [],
   "source": [
    "# Create a new dataframe for year 2021\n",
    "sales_2021 = sales[sales[\"Year\"] == 2021]"
   ]
  },
  {
   "cell_type": "code",
   "execution_count": null,
   "metadata": {
    "id": "hDF0yunEG6Ak"
   },
   "outputs": [
    {
     "data": {
      "text/html": [
       "<div>\n",
       "<style scoped>\n",
       "    .dataframe tbody tr th:only-of-type {\n",
       "        vertical-align: middle;\n",
       "    }\n",
       "\n",
       "    .dataframe tbody tr th {\n",
       "        vertical-align: top;\n",
       "    }\n",
       "\n",
       "    .dataframe thead th {\n",
       "        text-align: right;\n",
       "    }\n",
       "</style>\n",
       "<table border=\"1\" class=\"dataframe\">\n",
       "  <thead>\n",
       "    <tr style=\"text-align: right;\">\n",
       "      <th></th>\n",
       "      <th>Sales Person</th>\n",
       "      <th>Geography</th>\n",
       "      <th>Product</th>\n",
       "      <th>Amount($)</th>\n",
       "      <th>Boxes</th>\n",
       "      <th>Unit Price ($)</th>\n",
       "      <th>Year</th>\n",
       "      <th>Month</th>\n",
       "      <th>Week</th>\n",
       "    </tr>\n",
       "    <tr>\n",
       "      <th>Date</th>\n",
       "      <th></th>\n",
       "      <th></th>\n",
       "      <th></th>\n",
       "      <th></th>\n",
       "      <th></th>\n",
       "      <th></th>\n",
       "      <th></th>\n",
       "      <th></th>\n",
       "      <th></th>\n",
       "    </tr>\n",
       "  </thead>\n",
       "  <tbody>\n",
       "    <tr>\n",
       "      <th>2021-01-01</th>\n",
       "      <td>Barr Faughny</td>\n",
       "      <td>New Zealand</td>\n",
       "      <td>Raspberry Choco</td>\n",
       "      <td>8414.0</td>\n",
       "      <td>495</td>\n",
       "      <td>17.00</td>\n",
       "      <td>2021</td>\n",
       "      <td>January</td>\n",
       "      <td>Friday</td>\n",
       "    </tr>\n",
       "    <tr>\n",
       "      <th>2021-01-01</th>\n",
       "      <td>Dennison Crosswaite</td>\n",
       "      <td>Canada</td>\n",
       "      <td>White Choc</td>\n",
       "      <td>532.0</td>\n",
       "      <td>54</td>\n",
       "      <td>9.85</td>\n",
       "      <td>2021</td>\n",
       "      <td>January</td>\n",
       "      <td>Friday</td>\n",
       "    </tr>\n",
       "    <tr>\n",
       "      <th>2021-01-01</th>\n",
       "      <td>Karlen McCaffrey</td>\n",
       "      <td>USA</td>\n",
       "      <td>99% Dark &amp; Pure</td>\n",
       "      <td>5376.0</td>\n",
       "      <td>269</td>\n",
       "      <td>19.99</td>\n",
       "      <td>2021</td>\n",
       "      <td>January</td>\n",
       "      <td>Friday</td>\n",
       "    </tr>\n",
       "  </tbody>\n",
       "</table>\n",
       "</div>"
      ],
      "text/plain": [
       "                   Sales Person      Geography          Product  Amount($)  \\\n",
       "Date                                                                         \n",
       "2021-01-01         Barr Faughny    New Zealand  Raspberry Choco     8414.0   \n",
       "2021-01-01  Dennison Crosswaite         Canada       White Choc      532.0   \n",
       "2021-01-01     Karlen McCaffrey            USA  99% Dark & Pure     5376.0   \n",
       "\n",
       "            Boxes  Unit Price ($)  Year    Month    Week  \n",
       "Date                                                      \n",
       "2021-01-01    495           17.00  2021  January  Friday  \n",
       "2021-01-01     54            9.85  2021  January  Friday  \n",
       "2021-01-01    269           19.99  2021  January  Friday  "
      ]
     },
     "execution_count": 80,
     "metadata": {},
     "output_type": "execute_result"
    }
   ],
   "source": [
    "#1. Filtering\n",
    "#2. Grouping\n",
    "#3. Visuals\n",
    "\n",
    "# lets start analysing this dataset for insights\n",
    "\n",
    "\n",
    "\n",
    "\n",
    "\n",
    "# 1. Monthly revenue in 2021\n",
    "\n",
    "# step1: Filter for 2021\n",
    "\n",
    "\n",
    "\n",
    "sales_2021 = sales[sales[\"Year\"] == 2021]\n",
    "sales_2021.head(3)"
   ]
  },
  {
   "cell_type": "code",
   "execution_count": 88,
   "metadata": {
    "id": "UrIHHN6tJDl0"
   },
   "outputs": [
    {
     "data": {
      "text/plain": [
       "Month\n",
       "January      1650635.0\n",
       "February     1674323.0\n",
       "March        1702281.0\n",
       "April        1575700.0\n",
       "May          1677242.0\n",
       "June         1360338.0\n",
       "July         1358504.0\n",
       "August       1569470.0\n",
       "September    1275022.0\n",
       "October      1478897.0\n",
       "November     1482075.0\n",
       "December     1827007.0\n",
       "Name: Amount($), dtype: float64"
      ]
     },
     "execution_count": 88,
     "metadata": {},
     "output_type": "execute_result"
    }
   ],
   "source": [
    "# Step2:\n",
    "# 1. To force indexing by month because the month is not in number but in *names* (Jan, Feb, ...)\n",
    "month_order = [\"January\", \"February\", \"March\", \"April\", \"May\", \"June\",\n",
    "               \"July\", \"August\", \"September\", \"October\", \"November\", \"December\"]\n",
    "# I am using the .sort_index() to arrange the output, so the arrangement is done base on the index in month\n",
    "Total_monthly_revenue = sales_2021.groupby(\"Month\")[\"Amount($)\"].sum().reindex(month_order)\n",
    "Total_monthly_revenue\n",
    " \n",
    "\n"
   ]
  },
  {
   "cell_type": "code",
   "execution_count": 89,
   "metadata": {
    "id": "8zdyZXuIOaOs"
   },
   "outputs": [
    {
     "data": {
      "text/plain": [
       "Month\n",
       "December     1827007.0\n",
       "March        1702281.0\n",
       "May          1677242.0\n",
       "February     1674323.0\n",
       "January      1650635.0\n",
       "April        1575700.0\n",
       "August       1569470.0\n",
       "November     1482075.0\n",
       "October      1478897.0\n",
       "June         1360338.0\n",
       "July         1358504.0\n",
       "September    1275022.0\n",
       "Name: Amount($), dtype: float64"
      ]
     },
     "execution_count": 89,
     "metadata": {},
     "output_type": "execute_result"
    }
   ],
   "source": [
    "# I am using the .sort_values() to arrange the output, so the arrangement is done base on the values\n",
    "\n",
    "Total_monthly_revenue = sales_2021.groupby(\"Month\")[\"Amount($)\"].sum().sort_values(ascending = False)\n",
    "Total_monthly_revenue"
   ]
  },
  {
   "cell_type": "code",
   "execution_count": 90,
   "metadata": {
    "id": "nazymC2pIDnX"
   },
   "outputs": [
    {
     "data": {
      "text/plain": [
       "<Axes: xlabel='Month', ylabel='Amount($)'>"
      ]
     },
     "execution_count": 90,
     "metadata": {},
     "output_type": "execute_result"
    },
    {
     "data": {
      "image/png": "[encoded data removed]",
      "text/plain": [
       "<Figure size 640x480 with 1 Axes>"
      ]
     },
     "metadata": {},
     "output_type": "display_data"
    }
   ],
   "source": [
    "# lets put this in a plot using pandas\n",
    "Total_monthly_revenue.plot(kind = \"bar\",xlabel = \"Month\", ylabel =\"Amount($)\")"
   ]
  },
  {
   "cell_type": "code",
   "execution_count": 91,
   "metadata": {
    "id": "jKxq-UZlK3kl"
   },
   "outputs": [
    {
     "data": {
      "image/png": "[encoded data removed]",
      "text/plain": [
       "<Figure size 640x480 with 1 Axes>"
      ]
     },
     "metadata": {},
     "output_type": "display_data"
    }
   ],
   "source": [
    "# lets use matlplotlib\n",
    "plt.bar(Total_monthly_revenue.index, Total_monthly_revenue.values)\n",
    "plt.xlabel(\"Month\")\n",
    "plt.ylabel(\"Amount($)\")\n",
    "plt.title(\"Monthly Revenue in 2021\")\n",
    "plt.xticks(rotation = 45)\n",
    "plt.show()"
   ]
  },
  {
   "cell_type": "markdown",
   "metadata": {},
   "source": [
    "### Let follow the same step and calculate the monthly revenue for 2022 and plot that charts using the 3 visualization packages in python."
   ]
  },
  {
   "cell_type": "code",
   "execution_count": 101,
   "metadata": {},
   "outputs": [
    {
     "data": {
      "text/html": [
       "<div>\n",
       "<style scoped>\n",
       "    .dataframe tbody tr th:only-of-type {\n",
       "        vertical-align: middle;\n",
       "    }\n",
       "\n",
       "    .dataframe tbody tr th {\n",
       "        vertical-align: top;\n",
       "    }\n",
       "\n",
       "    .dataframe thead th {\n",
       "        text-align: right;\n",
       "    }\n",
       "</style>\n",
       "<table border=\"1\" class=\"dataframe\">\n",
       "  <thead>\n",
       "    <tr style=\"text-align: right;\">\n",
       "      <th></th>\n",
       "      <th>Sales Person</th>\n",
       "      <th>Geography</th>\n",
       "      <th>Product</th>\n",
       "      <th>Amount($)</th>\n",
       "      <th>Boxes</th>\n",
       "      <th>Unit Price ($)</th>\n",
       "      <th>Year</th>\n",
       "      <th>Month</th>\n",
       "      <th>Week</th>\n",
       "    </tr>\n",
       "    <tr>\n",
       "      <th>Date</th>\n",
       "      <th></th>\n",
       "      <th></th>\n",
       "      <th></th>\n",
       "      <th></th>\n",
       "      <th></th>\n",
       "      <th></th>\n",
       "      <th></th>\n",
       "      <th></th>\n",
       "      <th></th>\n",
       "    </tr>\n",
       "  </thead>\n",
       "  <tbody>\n",
       "    <tr>\n",
       "      <th>2022-01-26</th>\n",
       "      <td>Barr Faughny</td>\n",
       "      <td>Canada</td>\n",
       "      <td>50% Dark Bites</td>\n",
       "      <td>4067.0</td>\n",
       "      <td>170</td>\n",
       "      <td>23.92</td>\n",
       "      <td>2022</td>\n",
       "      <td>January</td>\n",
       "      <td>Wednesday</td>\n",
       "    </tr>\n",
       "    <tr>\n",
       "      <th>2022-01-05</th>\n",
       "      <td>Kelci Walkden</td>\n",
       "      <td>Canada</td>\n",
       "      <td>After Nines</td>\n",
       "      <td>14553.0</td>\n",
       "      <td>910</td>\n",
       "      <td>15.99</td>\n",
       "      <td>2022</td>\n",
       "      <td>January</td>\n",
       "      <td>Wednesday</td>\n",
       "    </tr>\n",
       "    <tr>\n",
       "      <th>2022-01-24</th>\n",
       "      <td>Rafaelita Blaksland</td>\n",
       "      <td>Canada</td>\n",
       "      <td>70% Dark Bites</td>\n",
       "      <td>2730.0</td>\n",
       "      <td>137</td>\n",
       "      <td>19.93</td>\n",
       "      <td>2022</td>\n",
       "      <td>January</td>\n",
       "      <td>Monday</td>\n",
       "    </tr>\n",
       "    <tr>\n",
       "      <th>2022-01-19</th>\n",
       "      <td>Jan Morforth</td>\n",
       "      <td>UK</td>\n",
       "      <td>Smooth Sliky Salty</td>\n",
       "      <td>9625.0</td>\n",
       "      <td>642</td>\n",
       "      <td>14.99</td>\n",
       "      <td>2022</td>\n",
       "      <td>January</td>\n",
       "      <td>Wednesday</td>\n",
       "    </tr>\n",
       "    <tr>\n",
       "      <th>2022-01-28</th>\n",
       "      <td>Marney O'Breen</td>\n",
       "      <td>Canada</td>\n",
       "      <td>Peanut Butter Cubes</td>\n",
       "      <td>10255.0</td>\n",
       "      <td>733</td>\n",
       "      <td>13.99</td>\n",
       "      <td>2022</td>\n",
       "      <td>January</td>\n",
       "      <td>Friday</td>\n",
       "    </tr>\n",
       "    <tr>\n",
       "      <th>...</th>\n",
       "      <td>...</td>\n",
       "      <td>...</td>\n",
       "      <td>...</td>\n",
       "      <td>...</td>\n",
       "      <td>...</td>\n",
       "      <td>...</td>\n",
       "      <td>...</td>\n",
       "      <td>...</td>\n",
       "      <td>...</td>\n",
       "    </tr>\n",
       "    <tr>\n",
       "      <th>2022-01-19</th>\n",
       "      <td>Van Tuxwell</td>\n",
       "      <td>India</td>\n",
       "      <td>Drinking Coco</td>\n",
       "      <td>10682.0</td>\n",
       "      <td>1526</td>\n",
       "      <td>7.00</td>\n",
       "      <td>2022</td>\n",
       "      <td>January</td>\n",
       "      <td>Wednesday</td>\n",
       "    </tr>\n",
       "    <tr>\n",
       "      <th>2022-01-18</th>\n",
       "      <td>Rafaelita Blaksland</td>\n",
       "      <td>Australia</td>\n",
       "      <td>Mint Chip Choco</td>\n",
       "      <td>11746.0</td>\n",
       "      <td>511</td>\n",
       "      <td>22.99</td>\n",
       "      <td>2022</td>\n",
       "      <td>January</td>\n",
       "      <td>Tuesday</td>\n",
       "    </tr>\n",
       "    <tr>\n",
       "      <th>2022-01-03</th>\n",
       "      <td>Kelci Walkden</td>\n",
       "      <td>Australia</td>\n",
       "      <td>Spicy Special Slims</td>\n",
       "      <td>8862.0</td>\n",
       "      <td>1477</td>\n",
       "      <td>6.00</td>\n",
       "      <td>2022</td>\n",
       "      <td>January</td>\n",
       "      <td>Monday</td>\n",
       "    </tr>\n",
       "    <tr>\n",
       "      <th>2022-01-21</th>\n",
       "      <td>Gunar Cockshoot</td>\n",
       "      <td>New Zealand</td>\n",
       "      <td>Mint Chip Choco</td>\n",
       "      <td>11592.0</td>\n",
       "      <td>527</td>\n",
       "      <td>22.00</td>\n",
       "      <td>2022</td>\n",
       "      <td>January</td>\n",
       "      <td>Friday</td>\n",
       "    </tr>\n",
       "    <tr>\n",
       "      <th>2022-01-07</th>\n",
       "      <td>Mallorie Waber</td>\n",
       "      <td>USA</td>\n",
       "      <td>Spicy Special Slims</td>\n",
       "      <td>3871.0</td>\n",
       "      <td>431</td>\n",
       "      <td>8.98</td>\n",
       "      <td>2022</td>\n",
       "      <td>January</td>\n",
       "      <td>Friday</td>\n",
       "    </tr>\n",
       "  </tbody>\n",
       "</table>\n",
       "<p>491 rows × 9 columns</p>\n",
       "</div>"
      ],
      "text/plain": [
       "                   Sales Person     Geography              Product  Amount($)  \\\n",
       "Date                                                                            \n",
       "2022-01-26         Barr Faughny     Canada          50% Dark Bites     4067.0   \n",
       "2022-01-05        Kelci Walkden        Canada          After Nines    14553.0   \n",
       "2022-01-24  Rafaelita Blaksland      Canada         70% Dark Bites     2730.0   \n",
       "2022-01-19         Jan Morforth         UK      Smooth Sliky Salty     9625.0   \n",
       "2022-01-28       Marney O'Breen     Canada     Peanut Butter Cubes    10255.0   \n",
       "...                         ...           ...                  ...        ...   \n",
       "2022-01-19          Van Tuxwell        India         Drinking Coco    10682.0   \n",
       "2022-01-18  Rafaelita Blaksland    Australia       Mint Chip Choco    11746.0   \n",
       "2022-01-03        Kelci Walkden    Australia   Spicy Special Slims     8862.0   \n",
       "2022-01-21      Gunar Cockshoot  New Zealand       Mint Chip Choco    11592.0   \n",
       "2022-01-07       Mallorie Waber        USA     Spicy Special Slims     3871.0   \n",
       "\n",
       "            Boxes  Unit Price ($)  Year    Month       Week  \n",
       "Date                                                         \n",
       "2022-01-26    170           23.92  2022  January  Wednesday  \n",
       "2022-01-05    910           15.99  2022  January  Wednesday  \n",
       "2022-01-24    137           19.93  2022  January     Monday  \n",
       "2022-01-19    642           14.99  2022  January  Wednesday  \n",
       "2022-01-28    733           13.99  2022  January     Friday  \n",
       "...           ...             ...   ...      ...        ...  \n",
       "2022-01-19   1526            7.00  2022  January  Wednesday  \n",
       "2022-01-18    511           22.99  2022  January    Tuesday  \n",
       "2022-01-03   1477            6.00  2022  January     Monday  \n",
       "2022-01-21    527           22.00  2022  January     Friday  \n",
       "2022-01-07    431            8.98  2022  January     Friday  \n",
       "\n",
       "[491 rows x 9 columns]"
      ]
     },
     "execution_count": 101,
     "metadata": {},
     "output_type": "execute_result"
    }
   ],
   "source": [
    "# Create a new dataframe for year 2022\n",
    "sales_2022 = sales[sales[\"Year\"] == 2022]\n",
    "sales_2022"
   ]
  },
  {
   "cell_type": "code",
   "execution_count": 99,
   "metadata": {},
   "outputs": [
    {
     "data": {
      "text/plain": [
       "Month\n",
       "January      3070228.0\n",
       "February           NaN\n",
       "March              NaN\n",
       "April              NaN\n",
       "May                NaN\n",
       "June               NaN\n",
       "July               NaN\n",
       "August             NaN\n",
       "September          NaN\n",
       "October            NaN\n",
       "November           NaN\n",
       "December           NaN\n",
       "Name: Amount($), dtype: float64"
      ]
     },
     "execution_count": 99,
     "metadata": {},
     "output_type": "execute_result"
    }
   ],
   "source": [
    "# Create a new dataframe for year 2022\n",
    "sales_2022 = sales[sales[\"Year\"] == 2022]\n",
    "sales_2022.head(3)\n",
    " \n",
    "Total_monthly_revenue2"
   ]
  },
  {
   "cell_type": "code",
   "execution_count": null,
   "metadata": {
    "id": "BJeHWgl6L_Cb"
   },
   "outputs": [
    {
     "name": "stdout",
     "output_type": "stream",
     "text": [
      "['New Zealand' 'Canada' 'USA' 'India' 'UK' 'Australia']\n"
     ]
    },
    {
     "data": {
      "text/plain": [
       "array(['New Zealand', 'Canada', 'USA', 'India', 'UK', 'Australia'],\n",
       "      dtype=object)"
      ]
     },
     "execution_count": 109,
     "metadata": {},
     "output_type": "execute_result"
    }
   ],
   "source": [
    "#2. Total revenue by Geography\n",
    "\n",
    "# lest check the branches we have first\n",
    "sales[\"Geography\"].unique()\n",
    "sales.Geography.unique() # this gave duplicate places probably because of leading or trailing whitespace\n",
    "\n",
    "# Remove leading and trailing whitespace from the entire column\n",
    "sales[\"Geography\"] = sales[\"Geography\"].str.strip()\n",
    "\n",
    "# Now get unique values again\n",
    "clean_unique_values = sales[\"Geography\"].unique()\n",
    "print(clean_unique_values)\n"
   ]
  },
  {
   "cell_type": "code",
   "execution_count": 110,
   "metadata": {
    "id": "D5ihMtj5pgDW"
   },
   "outputs": [
    {
     "data": {
      "text/plain": [
       "Geography\n",
       "New Zealand    3776766.0\n",
       "India          3760400.0\n",
       "UK             3590153.0\n",
       "Canada         3583769.0\n",
       "Australia      3545052.0\n",
       "USA            3445582.0\n",
       "Name: Amount($), dtype: float64"
      ]
     },
     "execution_count": 110,
     "metadata": {},
     "output_type": "execute_result"
    }
   ],
   "source": [
    "Total_revenue_by_geography = sales.groupby(\"Geography\")[\"Amount($)\"].sum().sort_values(ascending = False)\n",
    "Total_revenue_by_geography"
   ]
  },
  {
   "cell_type": "code",
   "execution_count": 111,
   "metadata": {
    "id": "7rl51StqpiIW"
   },
   "outputs": [
    {
     "data": {
      "image/png": "[encoded data removed]",
      "text/plain": [
       "<Figure size 640x480 with 1 Axes>"
      ]
     },
     "metadata": {},
     "output_type": "display_data"
    }
   ],
   "source": [
    "# plot the chart for Total Revenue by geography using matplotlib\n",
    "plt.pie(Total_revenue_by_geography.values, labels=Total_revenue_by_geography.index, autopct='%1.1f%%')\n",
    "plt.xlabel(\"Geography\")\n",
    "plt.ylabel(\"Amount($)\")\n",
    "plt.title(\"Total Revenue by Geography\")\n",
    "plt.show()"
   ]
  },
  {
   "cell_type": "code",
   "execution_count": 117,
   "metadata": {
    "id": "giKYesl4p38B"
   },
   "outputs": [
    {
     "name": "stdout",
     "output_type": "stream",
     "text": [
      "Sorted Ascending (A-Z):\n",
      "['50% Dark Bites' '70% Dark Bites' '85% Dark Bars' '99% -Dark & Pure'\n",
      " '99% Dark & Pure' 'After Nines' 'Almond Choco' \"Baker's Choco Chips\"\n",
      " 'Caramel Stuffed Bars' 'Choco Coated Almonds' 'Drinking Coco' 'Eclairs'\n",
      " 'Fruit & Nut Bars' 'Manuka Honey Choco' 'Manuka Honey Chocos' 'Milk Bars'\n",
      " 'Mint Chip Choco' 'Orange Choco' 'Organic Choco Syrup'\n",
      " 'Peanut Butter Cubes' 'Raspberry Choco' 'Smooth Sliky Salty'\n",
      " 'Spicy Special Slims' 'White Choc' 'White-Choc']\n"
     ]
    }
   ],
   "source": [
    "#Total revenue by products\n",
    "## let's check the products available first\n",
    "# Get unique values and sort them alphabetically (A-Z)\n",
    "sorted_unique_asc = np.sort(sales[\"Product\"].unique())\n",
    "print(\"Sorted Ascending (A-Z):\")\n",
    "print(sorted_unique_asc)\n"
   ]
  },
  {
   "cell_type": "code",
   "execution_count": 119,
   "metadata": {},
   "outputs": [
    {
     "data": {
      "text/plain": [
       "array(['Raspberry Choco', 'White Choc', '99% Dark & Pure',\n",
       "       \"Baker's Choco Chips\", 'Manuka Honey Choco', '85% Dark Bars',\n",
       "       'Organic Choco Syrup', 'Caramel Stuffed Bars', 'Milk Bars',\n",
       "       'Mint Chip Choco', 'Orange Choco', 'Eclairs', 'After Nines',\n",
       "       'Spicy Special Slims', 'Drinking Coco', 'Peanut Butter Cubes',\n",
       "       'Choco Coated Almonds', 'Fruit & Nut Bars', '50% Dark Bites',\n",
       "       '70% Dark Bites', 'Almond Choco', 'Smooth Silky Salty'],\n",
       "      dtype=object)"
      ]
     },
     "execution_count": 119,
     "metadata": {},
     "output_type": "execute_result"
    }
   ],
   "source": [
    "# Fixing inconsistent product names\n",
    "# Create a mapping dictionary for known inconsistencies\n",
    "product_name_map = {\n",
    "    # Fix clear typos and misspellings\n",
    "    'Smooth Sliky Salty': 'Smooth Silky Salty',  # Fix 'Sliky' -> 'Silky'\n",
    "    \n",
    "    # Fix hyphen and space inconsistencies (standardize format)\n",
    "    '99% -Dark & Pure': '99% Dark & Pure',       # Remove erroneous hyphen\n",
    "    'White-Choc': 'White Choc',                  # Replace hyphen with space\n",
    "    \n",
    "    # Fix inconsistent pluralization (choose one standard)\n",
    "    'Manuka Honey Chocos': 'Manuka Honey Choco', # Fix plural 'Chocos' -> 'Choco'\n",
    "}\n",
    "# Apply the mapping to the Product column\n",
    "sales[\"Product\"] = sales[\"Product\"].replace(product_name_map)\n",
    "sales[\"Product\"].unique()"
   ]
  },
  {
   "cell_type": "code",
   "execution_count": 120,
   "metadata": {
    "id": "DmowuIXurEt2"
   },
   "outputs": [
    {
     "data": {
      "text/plain": [
       "Product\n",
       "99% Dark & Pure         1089312.0\n",
       "Choco Coated Almonds    1075109.0\n",
       "Organic Choco Syrup     1047011.0\n",
       "50% Dark Bites          1030323.0\n",
       "Spicy Special Slims     1029490.0\n",
       "After Nines             1027054.0\n",
       "85% Dark Bars           1015994.0\n",
       "Raspberry Choco         1005046.0\n",
       "Almond Choco             995050.0\n",
       "Caramel Stuffed Bars     994021.0\n",
       "Eclairs                  992271.0\n",
       "Smooth Silky Salty       990794.0\n",
       "Peanut Butter Cubes      987525.0\n",
       "White Choc               979188.0\n",
       "Manuka Honey Choco       948983.0\n",
       "Orange Choco             946099.0\n",
       "Fruit & Nut Bars         943551.0\n",
       "Milk Bars                942921.0\n",
       "70% Dark Bites           938049.0\n",
       "Baker's Choco Chips      932491.0\n",
       "Drinking Coco            902384.0\n",
       "Mint Chip Choco          889056.0\n",
       "Name: Amount($), dtype: float64"
      ]
     },
     "execution_count": 120,
     "metadata": {},
     "output_type": "execute_result"
    }
   ],
   "source": [
    "# Now we can proceed to calculate total revenue by product\n",
    "Total_revenue_by_product = sales.groupby(\"Product\")[\"Amount($)\"].sum().sort_values(ascending = False)\n",
    "Total_revenue_by_product"
   ]
  },
  {
   "cell_type": "code",
   "execution_count": 127,
   "metadata": {
    "id": "CPnfed1nrL_w"
   },
   "outputs": [
    {
     "data": {
      "image/png": "[encoded data removed]",
      "text/plain": [
       "<Figure size 640x480 with 1 Axes>"
      ]
     },
     "metadata": {},
     "output_type": "display_data"
    }
   ],
   "source": [
    "# LEts plot\n",
    "plt.pie(Total_revenue_by_product.values, labels=Total_revenue_by_product.index, autopct='%1.1f%%')\n",
    "plt.title(\"Total Revenue by Product\")\n",
    "plt.show()"
   ]
  },
  {
   "cell_type": "code",
   "execution_count": 123,
   "metadata": {
    "id": "OkFf55tOrhTV"
   },
   "outputs": [
    {
     "name": "stdout",
     "output_type": "stream",
     "text": [
      "Sales Agents Sorted Ascending (A-Z):\n",
      "['Andria Kimpton' 'Barr Faughny' 'Beverie Moffet' 'Brien Boise'\n",
      " 'Camilla Castle' 'Ches Bonnell' 'Ches Bonnell*' 'Curtice Advani'\n",
      " 'Dennison Crosswaite' 'Dotty Strutley' 'Gigi Bohling' 'Gunar Cockshoot'\n",
      " 'Husein Augar' 'Jan Morforth' 'Jehu Rudeforth' 'Kaine Padly'\n",
      " 'Karlen McCaffrey' 'Kelci Walkden' 'Madelene Upcott' 'Mallorie Waber'\n",
      " \"Marney O'Breen\" 'Oby Sorrel' 'Rafaelita Blaksland' 'Roddy Speechley'\n",
      " 'Van Tuxwell' \"Wilone O'Kielt\"]\n"
     ]
    }
   ],
   "source": [
    "#3. Total revenue by sales agents\n",
    "\n",
    "#Lets check who our sales agents are arranged alphabetically\n",
    " \n",
    "persons_sorted_unique_asc = np.sort(sales[\"Sales Person\"].unique())\n",
    "print(\"Sales Agents Sorted Ascending (A-Z):\")\n",
    "print(persons_sorted_unique_asc)\n"
   ]
  },
  {
   "cell_type": "code",
   "execution_count": 129,
   "metadata": {},
   "outputs": [
    {
     "name": "stdout",
     "output_type": "stream",
     "text": [
      "Sales Agents Sorted Ascending (A-Z):\n",
      "['Andria Kimpton' 'Barr Faughny' 'Beverie Moffet' 'Brien Boise'\n",
      " 'Camilla Castle' 'Ches Bonnell' 'Curtice Advani' 'Dennison Crosswaite'\n",
      " 'Dotty Strutley' 'Gigi Bohling' 'Gunar Cockshoot' 'Husein Augar'\n",
      " 'Jan Morforth' 'Jehu Rudeforth' 'Kaine Padly' 'Karlen McCaffrey'\n",
      " 'Kelci Walkden' 'Madelene Upcott' 'Mallorie Waber' \"Marney O'Breen\"\n",
      " 'Oby Sorrel' 'Rafaelita Blaksland' 'Roddy Speechley' 'Van Tuxwell'\n",
      " \"Wilone O'Kielt\"]\n"
     ]
    }
   ],
   "source": [
    "persons_name_map = {\n",
    "    # Fix clear typos and misspellings\n",
    "    'Ches Bonnell*': 'Ches Bonnell',  # Fix 'Sliky' -> 'Silky'\n",
    "}\n",
    "# Apply the mapping to the Sales Person column\n",
    "sales[\"Sales Person\"] = sales[\"Sales Person\"].replace(persons_name_map)\n",
    "persons_sorted_unique_asc = np.sort(sales[\"Sales Person\"].unique())\n",
    "print(\"Sales Agents Sorted Ascending (A-Z):\")\n",
    "print(persons_sorted_unique_asc)"
   ]
  },
  {
   "cell_type": "code",
   "execution_count": 130,
   "metadata": {
    "id": "UZo5pP1yrtFe"
   },
   "outputs": [
    {
     "data": {
      "text/plain": [
       "Sales Person\n",
       "Karlen McCaffrey       963956.0\n",
       "Roddy Speechley        957047.0\n",
       "Wilone O'Kielt         944580.0\n",
       "Gigi Bohling           925057.0\n",
       "Dotty Strutley         922635.0\n",
       "Gunar Cockshoot        913325.0\n",
       "Rafaelita Blaksland    903616.0\n",
       "Madelene Upcott        897554.0\n",
       "Jehu Rudeforth         895363.0\n",
       "Dennison Crosswaite    890708.0\n",
       "Kelci Walkden          889602.0\n",
       "Barr Faughny           886375.0\n",
       "Ches Bonnell           884835.0\n",
       "Andria Kimpton         867510.0\n",
       "Van Tuxwell            863079.0\n",
       "Mallorie Waber         860846.0\n",
       "Oby Sorrel             860083.0\n",
       "Kaine Padly            828058.0\n",
       "Beverie Moffet         817572.0\n",
       "Camilla Castle         798868.0\n",
       "Marney O'Breen         797629.0\n",
       "Brien Boise            794920.0\n",
       "Jan Morforth           780038.0\n",
       "Curtice Advani         779422.0\n",
       "Husein Augar           779044.0\n",
       "Name: Amount($), dtype: float64"
      ]
     },
     "execution_count": 130,
     "metadata": {},
     "output_type": "execute_result"
    }
   ],
   "source": [
    "# Now we can proceed to calculate total revenue by sales agents\n",
    "Total_revenue_by_sales_agent = sales.groupby(\"Sales Person\")[\"Amount($)\"].sum().sort_values(ascending = False)\n",
    "Total_revenue_by_sales_agent"
   ]
  },
  {
   "cell_type": "code",
   "execution_count": 131,
   "metadata": {
    "id": "LUcAhxzxr0kf"
   },
   "outputs": [
    {
     "data": {
      "text/plain": [
       "<Axes: ylabel='Sales Person'>"
      ]
     },
     "execution_count": 131,
     "metadata": {},
     "output_type": "execute_result"
    },
    {
     "data": {
      "image/png": "[encoded data removed]",
      "text/plain": [
       "<Figure size 640x480 with 1 Axes>"
      ]
     },
     "metadata": {},
     "output_type": "display_data"
    }
   ],
   "source": [
    "# lets plot using seaborn barchart\n",
    "sns.barplot(x = Total_revenue_by_sales_agent.values, y = Total_revenue_by_sales_agent.index, orient = \"h\")"
   ]
  },
  {
   "cell_type": "code",
   "execution_count": 132,
   "metadata": {
    "id": "unrQ9kDqsbg8"
   },
   "outputs": [
    {
     "data": {
      "text/plain": [
       "Week\n",
       "Friday       5022101.0\n",
       "Tuesday      4619944.0\n",
       "Monday       4271358.0\n",
       "Wednesday    3997581.0\n",
       "Thursday     3790738.0\n",
       "Name: Amount($), dtype: float64"
      ]
     },
     "execution_count": 132,
     "metadata": {},
     "output_type": "execute_result"
    }
   ],
   "source": [
    "#4. Total revenue by week\n",
    "Total_revenue_by_week = sales.groupby(\"Week\")[\"Amount($)\"].sum().sort_values(ascending = False)\n",
    "Total_revenue_by_week"
   ]
  },
  {
   "cell_type": "code",
   "execution_count": 133,
   "metadata": {
    "id": "AeXW4tj8smV8"
   },
   "outputs": [
    {
     "data": {
      "image/png": "[encoded data removed]",
      "text/plain": [
       "<Figure size 640x480 with 1 Axes>"
      ]
     },
     "metadata": {},
     "output_type": "display_data"
    }
   ],
   "source": [
    "# lets plot this using line chart\n",
    "plt.plot(Total_revenue_by_week.index, Total_revenue_by_week.values)\n",
    "plt.xlabel(\"Week\")\n",
    "plt.ylabel(\"Amount($)\")\n",
    "plt.title(\"Total Revenue by Week\")\n",
    "plt.show()"
   ]
  },
  {
   "cell_type": "code",
   "execution_count": 134,
   "metadata": {
    "id": "gXIZvYzAtg_U"
   },
   "outputs": [
    {
     "data": {
      "text/plain": [
       "Month\n",
       "January      4720863.0\n",
       "December     1827007.0\n",
       "March        1702281.0\n",
       "May          1677242.0\n",
       "February     1674323.0\n",
       "April        1575700.0\n",
       "August       1569470.0\n",
       "November     1482075.0\n",
       "October      1478897.0\n",
       "June         1360338.0\n",
       "July         1358504.0\n",
       "September    1275022.0\n",
       "Name: Amount($), dtype: float64"
      ]
     },
     "execution_count": 134,
     "metadata": {},
     "output_type": "execute_result"
    }
   ],
   "source": [
    "#5. Total revenue by month\n",
    "Total_revenue_by_month = sales.groupby(\"Month\")[\"Amount($)\"].sum().sort_values(ascending = False)\n",
    "Total_revenue_by_month"
   ]
  },
  {
   "cell_type": "code",
   "execution_count": 135,
   "metadata": {
    "id": "YJuWJiyWtmdk"
   },
   "outputs": [
    {
     "data": {
      "image/png": "[encoded data removed]",
      "text/plain": [
       "<Figure size 640x480 with 1 Axes>"
      ]
     },
     "metadata": {},
     "output_type": "display_data"
    }
   ],
   "source": [
    "# plot using searborn line chart\n",
    "sns.lineplot(x = Total_revenue_by_month.index, y = Total_revenue_by_month.values)\n",
    "plt.xlabel(\"Month\")\n",
    "plt.xticks(rotation = 45)\n",
    "plt.ylabel(\"Amount($)\")\n",
    "plt.title(\"Total Revenue by Month\")\n",
    "plt.show()"
   ]
  },
  {
   "cell_type": "code",
   "execution_count": 139,
   "metadata": {
    "id": "Z9vvEznLuNl8"
   },
   "outputs": [
    {
     "data": {
      "text/html": [
       "<div>\n",
       "<style scoped>\n",
       "    .dataframe tbody tr th:only-of-type {\n",
       "        vertical-align: middle;\n",
       "    }\n",
       "\n",
       "    .dataframe tbody tr th {\n",
       "        vertical-align: top;\n",
       "    }\n",
       "\n",
       "    .dataframe thead th {\n",
       "        text-align: right;\n",
       "    }\n",
       "</style>\n",
       "<table border=\"1\" class=\"dataframe\">\n",
       "  <thead>\n",
       "    <tr style=\"text-align: right;\">\n",
       "      <th></th>\n",
       "      <th>Year</th>\n",
       "      <th>Month</th>\n",
       "      <th>Amount($)</th>\n",
       "    </tr>\n",
       "  </thead>\n",
       "  <tbody>\n",
       "    <tr>\n",
       "      <th>0</th>\n",
       "      <td>2021</td>\n",
       "      <td>April</td>\n",
       "      <td>1575700.0</td>\n",
       "    </tr>\n",
       "    <tr>\n",
       "      <th>1</th>\n",
       "      <td>2021</td>\n",
       "      <td>August</td>\n",
       "      <td>1569470.0</td>\n",
       "    </tr>\n",
       "    <tr>\n",
       "      <th>2</th>\n",
       "      <td>2021</td>\n",
       "      <td>December</td>\n",
       "      <td>1827007.0</td>\n",
       "    </tr>\n",
       "    <tr>\n",
       "      <th>3</th>\n",
       "      <td>2021</td>\n",
       "      <td>February</td>\n",
       "      <td>1674323.0</td>\n",
       "    </tr>\n",
       "    <tr>\n",
       "      <th>4</th>\n",
       "      <td>2021</td>\n",
       "      <td>January</td>\n",
       "      <td>1650635.0</td>\n",
       "    </tr>\n",
       "    <tr>\n",
       "      <th>5</th>\n",
       "      <td>2021</td>\n",
       "      <td>July</td>\n",
       "      <td>1358504.0</td>\n",
       "    </tr>\n",
       "    <tr>\n",
       "      <th>6</th>\n",
       "      <td>2021</td>\n",
       "      <td>June</td>\n",
       "      <td>1360338.0</td>\n",
       "    </tr>\n",
       "    <tr>\n",
       "      <th>7</th>\n",
       "      <td>2021</td>\n",
       "      <td>March</td>\n",
       "      <td>1702281.0</td>\n",
       "    </tr>\n",
       "    <tr>\n",
       "      <th>8</th>\n",
       "      <td>2021</td>\n",
       "      <td>May</td>\n",
       "      <td>1677242.0</td>\n",
       "    </tr>\n",
       "    <tr>\n",
       "      <th>9</th>\n",
       "      <td>2021</td>\n",
       "      <td>November</td>\n",
       "      <td>1482075.0</td>\n",
       "    </tr>\n",
       "    <tr>\n",
       "      <th>10</th>\n",
       "      <td>2021</td>\n",
       "      <td>October</td>\n",
       "      <td>1478897.0</td>\n",
       "    </tr>\n",
       "    <tr>\n",
       "      <th>11</th>\n",
       "      <td>2021</td>\n",
       "      <td>September</td>\n",
       "      <td>1275022.0</td>\n",
       "    </tr>\n",
       "    <tr>\n",
       "      <th>12</th>\n",
       "      <td>2022</td>\n",
       "      <td>January</td>\n",
       "      <td>3070228.0</td>\n",
       "    </tr>\n",
       "  </tbody>\n",
       "</table>\n",
       "</div>"
      ],
      "text/plain": [
       "    Year      Month  Amount($)\n",
       "0   2021      April  1575700.0\n",
       "1   2021     August  1569470.0\n",
       "2   2021   December  1827007.0\n",
       "3   2021   February  1674323.0\n",
       "4   2021    January  1650635.0\n",
       "5   2021       July  1358504.0\n",
       "6   2021       June  1360338.0\n",
       "7   2021      March  1702281.0\n",
       "8   2021        May  1677242.0\n",
       "9   2021   November  1482075.0\n",
       "10  2021    October  1478897.0\n",
       "11  2021  September  1275022.0\n",
       "12  2022    January  3070228.0"
      ]
     },
     "execution_count": 139,
     "metadata": {},
     "output_type": "execute_result"
    }
   ],
   "source": [
    "#6. Trends of sales\n",
    "Trends_of_sales_over_the_year = sales.groupby([\"Year\",\"Month\"])[\"Amount($)\"].sum().reset_index()\n",
    "Trends_of_sales_over_the_year"
   ]
  },
  {
   "cell_type": "code",
   "execution_count": 141,
   "metadata": {
    "id": "sfjBmJbtufG-"
   },
   "outputs": [
    {
     "data": {
      "text/plain": [
       "([0, 1, 2, 3, 4, 5, 6, 7, 8, 9, 10, 11],\n",
       " [Text(0, 0, 'April'),\n",
       "  Text(1, 0, 'August'),\n",
       "  Text(2, 0, 'December'),\n",
       "  Text(3, 0, 'February'),\n",
       "  Text(4, 0, 'January'),\n",
       "  Text(5, 0, 'July'),\n",
       "  Text(6, 0, 'June'),\n",
       "  Text(7, 0, 'March'),\n",
       "  Text(8, 0, 'May'),\n",
       "  Text(9, 0, 'November'),\n",
       "  Text(10, 0, 'October'),\n",
       "  Text(11, 0, 'September')])"
      ]
     },
     "execution_count": 141,
     "metadata": {},
     "output_type": "execute_result"
    },
    {
     "data": {
      "image/png": "[encoded data removed]",
      "text/plain": [
       "<Figure size 640x480 with 1 Axes>"
      ]
     },
     "metadata": {},
     "output_type": "display_data"
    }
   ],
   "source": [
    "# lets plot\n",
    "plt.plot(Trends_of_sales_over_the_year[\"Month\"], Trends_of_sales_over_the_year[\"Amount($)\"])\n",
    "plt.xticks(rotation = 45)"
   ]
  }
 ],
 "metadata": {
  "colab": {
   "provenance": []
  },
  "kernelspec": {
   "display_name": "Python 3",
   "name": "python3"
  },
  "language_info": {
   "codemirror_mode": {
    "name": "ipython",
    "version": 3
   },
   "file_extension": ".py",
   "mimetype": "text/x-python",
   "name": "python",
   "nbconvert_exporter": "python",
   "pygments_lexer": "ipython3",
   "version": "3.13.5"
  }
 },
 "nbformat": 4,
 "nbformat_minor": 0
}
